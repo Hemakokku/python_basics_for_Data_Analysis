{
 "cells": [
  {
   "cell_type": "markdown",
   "id": "9da70775",
   "metadata": {},
   "source": [
    "# Loop a Set Number of Times With the for Loop\n",
    "For loops are used when you know in advance how many times an action will be repeated.\n",
    "\n",
    "However, unlike most other languages, in Python a for loop will necessarily iterate through a collection (list, dictionary, string, etc.).\n",
    "\n",
    "The for Loop on a Collection\n",
    "The conventional use of loops in Python is to directly use the different values of a collection. Here is an example with a list:\n",
    "\n"
   ]
  },
  {
   "cell_type": "code",
   "execution_count": 1,
   "id": "9560b9a0",
   "metadata": {},
   "outputs": [
    {
     "name": "stdout",
     "output_type": "stream",
     "text": [
      "7\n",
      "2\n",
      "1\n",
      "0\n"
     ]
    }
   ],
   "source": [
    "myString=[7,2,1,0]\n",
    "for elt in myString:\n",
    "    print(elt)"
   ]
  },
  {
   "attachments": {
    "image.png": {
     "image/png": "[encoded data removed]"
    }
   },
   "cell_type": "markdown",
   "id": "786ef4f6",
   "metadata": {},
   "source": [
    "The printed result corresponds to each item in the list taken one by one. Let's take a detailed look at what has been achieved in the above code:\n",
    "\n",
    "You have created a list:   myList, containing four items: 7, 2, 4, and 10.\n",
    "\n",
    "The loop will store the first value of the list (in this case 7) in the   elt  variable.\n",
    "\n",
    "Then, the whole block of code associated with the for loop (defined via indentation... again!) is run with   elt  holding the first value. Here, this block just involves printing   elt.\n",
    "\n",
    "Once this is done,   elt  will take the second value of the list (in this case 2) and the block of code is re-run.\n",
    "\n",
    "The loop will continue until all the values in your list have been stored in the    elt  variable and the statements for the loop have been executed for each of them.\n",
    "\n",
    "Here is a diagram to understand the Python logic behind the loop:\n",
    "\n",
    "Understand the logic of the loop!\n",
    "![image.png](attachment:image.png)\n",
    "\n",
    "You can also iterate via a string! Remember that strings are also known as \"character strings\" because they represent a collection of characters, similar to a list."
   ]
  },
  {
   "cell_type": "code",
   "execution_count": 2,
   "id": "092515ec",
   "metadata": {},
   "outputs": [
    {
     "name": "stdout",
     "output_type": "stream",
     "text": [
      "I\n",
      "t\n",
      "e\n",
      "m\n",
      "s\n"
     ]
    }
   ],
   "source": [
    "myString = \"Items\"\n",
    "\n",
    "for elt in myString:\n",
    "    print(elt)"
   ]
  },
  {
   "cell_type": "markdown",
   "id": "c5dd0a4c",
   "metadata": {},
   "source": [
    "In this case,   elt  will successively take each character of your string.\n",
    "\n",
    "The for Loop via an Iterative Integer Value\n",
    "\n",
    "Quite often, you will find that you simply need to loop over a range of integer values, e.g. 0, 1, 2, 3….  This is the conventional loop you see most often in languages like Javascript or C++.  Because Python wants to loop over a collection, you need to create a collection containing your range of integer values.\n",
    "\n",
    "To do this, you will use the   range(start, stop, step)  function, which will generate a collection of numbers according to three parameters:\n",
    "\n",
    "start : the first number of the sequence.\n",
    "\n",
    "stop  corresponds to the last number of the sequence, non-inclusive. The function will generate numbers from   start  to   stop-1.\n",
    "\n",
    "step :  the step between each generated number.\n",
    "\n",
    "Not all parameters are necessary. For example:\n",
    "\n",
    "for i in range(0, 5, 1):\n",
    "\n"
   ]
  },
  {
   "cell_type": "code",
   "execution_count": 3,
   "id": "6810199c",
   "metadata": {},
   "outputs": [
    {
     "name": "stdout",
     "output_type": "stream",
     "text": [
      "0\n",
      "1\n",
      "2\n",
      "3\n",
      "4\n",
      "0\n",
      "1\n",
      "2\n",
      "3\n",
      "4\n",
      "0\n",
      "1\n",
      "2\n",
      "3\n",
      "4\n",
      "0\n",
      "2\n",
      "4\n"
     ]
    }
   ],
   "source": [
    "for i in range(0, 5, 1):\n",
    "    print(i) # -> print from 0 to 4 by steps of 1 (end - 1)\n",
    "\n",
    "for i in range(0, 5):\n",
    "    print(i) # -> prints from 0 to 4 also (default step is 1)\n",
    "\n",
    "for i in range(5):\n",
    "    print(i) # -> prints from 0 to 4 also (default start is 0)\n",
    "\n",
    "for i in range(0, 5, 2):\n",
    "    print(i) # -> print 0, 2 then 4"
   ]
  },
  {
   "cell_type": "markdown",
   "id": "06d5d51f",
   "metadata": {},
   "source": [
    "The for loop is perfectly suited when you have to perform an action a certain number of times known in advance or an action for each item of a collection. For all other cases, we can make a conditional loop: a loop that does not iterate through a collection, but according to a condition."
   ]
  },
  {
   "cell_type": "markdown",
   "id": "1632b20d",
   "metadata": {},
   "source": [
    "# Loop According to a Condition with the while Loop: \n",
    "The conditional loop is the while loop in Python.\n",
    "\n",
    "As its name implies, the while loop will run as long as a condition is met. It is a kind of combination of a for loop and an if structure. The number of repetitions is not defined in advance, but via a condition to be fulfilled, as with an if. This is called a conditional loop.\n",
    "\n",
    "The syntax is as follows:"
   ]
  },
  {
   "cell_type": "code",
   "execution_count": 5,
   "id": "2b7e2204",
   "metadata": {},
   "outputs": [
    {
     "ename": "IndentationError",
     "evalue": "expected an indented block (203543695.py, line 2)",
     "output_type": "error",
     "traceback": [
      "\u001b[1;36m  File \u001b[1;32m\"C:\\Users\\Hema Kokku\\AppData\\Local\\Temp\\ipykernel_20528\\203543695.py\"\u001b[1;36m, line \u001b[1;32m2\u001b[0m\n\u001b[1;33m    # block to execute\u001b[0m\n\u001b[1;37m                      ^\u001b[0m\n\u001b[1;31mIndentationError\u001b[0m\u001b[1;31m:\u001b[0m expected an indented block\n"
     ]
    }
   ],
   "source": [
    "while expressionLogic:\n",
    "# block to execute"
   ]
  },
  {
   "cell_type": "markdown",
   "id": "a4f52a49",
   "metadata": {},
   "source": [
    "It can be interpreted as: as long as my logical expression is true, run the statement block.\n",
    "\n",
    "Here's how it works:\n",
    "\n",
    "The program checks that   expressionLogic  is equal to   True.\n",
    "\n",
    "If this is the case, the indented statements following the   :   are run. Once this is done, we return to step one.\n",
    "\n",
    "Otherwise, the program exits the loop without running the statements.\n",
    "\n",
    "Try the example below:"
   ]
  },
  {
   "cell_type": "code",
   "execution_count": 6,
   "id": "7e935f0c",
   "metadata": {},
   "outputs": [
    {
     "name": "stdout",
     "output_type": "stream",
     "text": [
      "I planted 1 trees\n",
      "I planted 2 trees\n",
      "I planted 3 trees\n",
      "I planted 4 trees\n",
      "I planted 5 trees\n",
      "I planted 6 trees\n",
      "I planted 7 trees\n",
      "I planted 8 trees\n",
      "I planted 9 trees\n",
      "I planted 10 trees\n",
      "I have a nice forest!\n"
     ]
    }
   ],
   "source": [
    "numberTrees = 0\n",
    "\n",
    "while numberTrees < 10:\n",
    "    numberTrees += 1\n",
    "    print(\"I planted\", numberTrees, \"trees\")\n",
    "\n",
    "print(\"I have a nice forest!\")"
   ]
  },
  {
   "cell_type": "code",
   "execution_count": null,
   "id": "2e397518",
   "metadata": {},
   "outputs": [],
   "source": []
  }
 ],
 "metadata": {
  "kernelspec": {
   "display_name": "Python 3 (ipykernel)",
   "language": "python",
   "name": "python3"
  },
  "language_info": {
   "codemirror_mode": {
    "name": "ipython",
    "version": 3
   },
   "file_extension": ".py",
   "mimetype": "text/x-python",
   "name": "python",
   "nbconvert_exporter": "python",
   "pygments_lexer": "ipython3",
   "version": "3.9.13"
  }
 },
 "nbformat": 4,
 "nbformat_minor": 5
}
