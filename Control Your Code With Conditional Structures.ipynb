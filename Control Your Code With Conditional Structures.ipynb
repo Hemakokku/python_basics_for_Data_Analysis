{
 "cells": [
  {
   "cell_type": "markdown",
   "id": "fbca7440",
   "metadata": {},
   "source": [
    "# Print Information if Available\n",
    "When you start your program, you do not necessarily know the name of the user in advance. How about a program that can:\n",
    "\n",
    "say hello to a particular user, if you know their name...\n",
    "\n",
    "if not, continue to say hello to everyone?\n",
    "\n",
    "Here is your first condition, which will let you build your first conditional structure.\n",
    "\n",
    "How can you get a person's name in the first place?\n",
    "\n",
    "Do you remember functions? Yes, you worked it out, you can do this via a function: the  input  function. This will ask the notebook user (in other words... you!) to enter a string which will then be stored in a variable.\n",
    "\n",
    "Let's look at an example:"
   ]
  },
  {
   "cell_type": "code",
   "execution_count": 1,
   "id": "0ccd693c",
   "metadata": {},
   "outputs": [
    {
     "name": "stdout",
     "output_type": "stream",
     "text": [
      "What is your name, dear stranger?Hema\n"
     ]
    }
   ],
   "source": [
    "name = input( 'What is your name, dear stranger?')\n"
   ]
  },
  {
   "cell_type": "markdown",
   "id": "586bf344",
   "metadata": {},
   "source": [
    "You have a space to answer the question and your answer will be stored as a string in the   username  variable.\n",
    "\n",
    "Now design the code that will let you say hello to your user:\n",
    "\n",
    "Ask the user their name and store their answer in a variable:   name .\n",
    "\n",
    "Check that the  name  variable definitely contains a value (in case the user doesn't give an answer). The   len  function will help you to perform this task!\n",
    "\n",
    "If this is the case, say Hello to your user with their name.\n",
    "\n",
    "Otherwise, keep saying Hello to the world. \n",
    "\n",
    "Here is the corresponding code:"
   ]
  },
  {
   "cell_type": "code",
   "execution_count": 2,
   "id": "dbf6de94",
   "metadata": {},
   "outputs": [
    {
     "name": "stdout",
     "output_type": "stream",
     "text": [
      "What is your name, dear stranger?Hema\n",
      "Hello Hema !\n"
     ]
    }
   ],
   "source": [
    "name = input( 'What is your name, dear stranger?')\n",
    "\n",
    "if len(name) > 0:\n",
    "    print(\"Hello\", name, \"!\")\n",
    "else:\n",
    "    print(\"Hello, world!\")"
   ]
  },
  {
   "cell_type": "markdown",
   "id": "fa33d1fc",
   "metadata": {},
   "source": [
    "It works well! Everything indented below the if is executed if the condition is true, otherwise the program runs everything indented below the else."
   ]
  },
  {
   "cell_type": "markdown",
   "id": "2ccfc33a",
   "metadata": {},
   "source": [
    "# Use Booleans: The No-Half-Measure Type\n",
    "In Python, to validate a condition, you use a special type (or object :) ) called boolean. A Boolean variable can only contain two values: True or False. It's actually a pretty simple thing, but oh so useful!\n",
    "\n",
    "In Python, the boolean can take the values True and False. Now see how to declare booleans in Python:"
   ]
  },
  {
   "cell_type": "code",
   "execution_count": 3,
   "id": "e7115f20",
   "metadata": {},
   "outputs": [],
   "source": [
    "thisCourseIsGreat = True\n",
    "itsAuthorIsVeryHumble = False"
   ]
  },
  {
   "cell_type": "markdown",
   "id": "5a796067",
   "metadata": {},
   "source": [
    "Easy, right?\n",
    "\n",
    "To get back to your if conditional structure, I think you'll understand, but it's absolutely necessary that what follows the if keyword results in a boolean. This can be done via:\n",
    "\n",
    "a    True  or   False  value. For example,   if True : .\n",
    "\n",
    "a boolean variable. For example,   if myVariable:  where   myVariable  is a boolean.\n",
    "\n",
    "an expression that results in a boolean value, as in the example above.\n",
    "\n",
    "For example:"
   ]
  },
  {
   "cell_type": "code",
   "execution_count": 4,
   "id": "203b4df3",
   "metadata": {},
   "outputs": [
    {
     "data": {
      "text/plain": [
       "True"
      ]
     },
     "execution_count": 4,
     "metadata": {},
     "output_type": "execute_result"
    }
   ],
   "source": [
    "weather = \"The weather is great!\"\n",
    "weather.startswith(\"The weather\") # -> True"
   ]
  },
  {
   "cell_type": "markdown",
   "id": "229e68ac",
   "metadata": {},
   "source": [
    "startswith  is a method of the string class, which returns   True  when the string starts exactly with the string passed as a parameter;  False , if not. For example, you could use this expression to perform an action if a sentence begins with a particular word.\n",
    "\n",
    "To produce Booleans, you can also use comparison operators.\n",
    "\n",
    "Comparison Operators\n",
    "As the name suggests, comparison operators are used to compare two values. There are six main ones:\n",
    "\n",
    "==  equal to (two values are exactly the same)\n",
    "\n",
    "!=  different from\n",
    "\n",
    "<  less than\n",
    "\n",
    "<=  less than or equal to\n",
    "\n",
    ">  greater than\n",
    "\n",
    ">=  greater than or equal to\n",
    "\n",
    "Here are some examples with numeric variables:"
   ]
  },
  {
   "cell_type": "code",
   "execution_count": 5,
   "id": "84f4cf76",
   "metadata": {},
   "outputs": [
    {
     "data": {
      "text/plain": [
       "True"
      ]
     },
     "execution_count": 5,
     "metadata": {},
     "output_type": "execute_result"
    }
   ],
   "source": [
    "2 == 2 # -> True\n",
    "2 == 3 # -> False\n",
    "4 != 4 # -> False\n",
    "4!= 5 # -> True\n",
    "1 < 2 # -> True\n",
    "1 < 1 # -> False\n",
    "1 <= 1 # -> True\n",
    "3 > 4 # -> False\n",
    "5 > 4 # -> True\n",
    "5 >= 4 # -> True"
   ]
  },
  {
   "cell_type": "markdown",
   "id": "47ca82e1",
   "metadata": {},
   "source": [
    "The result of these operations can be assigned to a variable:"
   ]
  },
  {
   "cell_type": "code",
   "execution_count": 7,
   "id": "d31a4a14",
   "metadata": {},
   "outputs": [
    {
     "ename": "IndentationError",
     "evalue": "unexpected indent (1174238009.py, line 3)",
     "output_type": "error",
     "traceback": [
      "\u001b[1;36m  File \u001b[1;32m\"C:\\Users\\Hema Kokku\\AppData\\Local\\Temp\\ipykernel_22560\\1174238009.py\"\u001b[1;36m, line \u001b[1;32m3\u001b[0m\n\u001b[1;33m    if age>=21:\u001b[0m\n\u001b[1;37m    ^\u001b[0m\n\u001b[1;31mIndentationError\u001b[0m\u001b[1;31m:\u001b[0m unexpected indent\n"
     ]
    }
   ],
   "source": [
    "age=15\n",
    "\n",
    " if age>=21:\n",
    "    # Do something if age is greater than or equal to 21"
   ]
  },
  {
   "cell_type": "markdown",
   "id": "32dc81b2",
   "metadata": {},
   "source": [
    "# Logical Operators\n",
    "These operators will let you mix several Boolean values: specific Boolean values or expression results. There are three of them:\n",
    "\n",
    "and : the AND operator.\n",
    "The final result is true only when all expressions/values are true. For example: the result of  expression1 and expression2  will be True only if   expression1  is true AND expression2  is also true.\n",
    "\n",
    "or : the OR operator.\n",
    "The final result is true when at least one of the expressions/values is true. For example: the result of  expression1  or  expression2   will be at True if   expression1  is true OR expression2  is true.\n",
    "\n",
    "not : the NOT operator.\n",
    "This simply reverses the result of the given expression. For example, the result of   not(expression)  is true when   expression  is false.\n",
    "\n",
    "Here are some examples with the results shown as comments:"
   ]
  },
  {
   "cell_type": "code",
   "execution_count": 8,
   "id": "b63271e0",
   "metadata": {},
   "outputs": [
    {
     "data": {
      "text/plain": [
       "True"
      ]
     },
     "execution_count": 8,
     "metadata": {},
     "output_type": "execute_result"
    }
   ],
   "source": [
    "True and True # True\n",
    "True and False # False\n",
    "False and False # False\n",
    "True or False # True\n",
    "True or True # True\n",
    "False or False # False\n",
    "not(True) # False\n",
    "not(False) # True"
   ]
  },
  {
   "cell_type": "markdown",
   "id": "741faa35",
   "metadata": {},
   "source": [
    "You can also mix more than two expressions/values:\n",
    "\n"
   ]
  },
  {
   "cell_type": "code",
   "execution_count": 9,
   "id": "94428a2e",
   "metadata": {},
   "outputs": [
    {
     "data": {
      "text/plain": [
       "False"
      ]
     },
     "execution_count": 9,
     "metadata": {},
     "output_type": "execute_result"
    }
   ],
   "source": [
    "True and True and True # True\n",
    "True and True and False # False\n",
    "True or False or False # True\n",
    "False or False or False # False"
   ]
  },
  {
   "cell_type": "markdown",
   "id": "d4ee3963",
   "metadata": {},
   "source": [
    "As with numeric operations, logical operators respect the priorities of operations: the  not  operator is applied first, then the  and  operator, then the   or  operator. For example:"
   ]
  },
  {
   "cell_type": "code",
   "execution_count": 10,
   "id": "cc8aed0d",
   "metadata": {},
   "outputs": [
    {
     "data": {
      "text/plain": [
       "True"
      ]
     },
     "execution_count": 10,
     "metadata": {},
     "output_type": "execute_result"
    }
   ],
   "source": [
    "False or True and True # True\n",
    "not(False) and True or False # True"
   ]
  },
  {
   "cell_type": "markdown",
   "id": "944fb7c8",
   "metadata": {},
   "source": [
    "You can also use parentheses to change the order:"
   ]
  },
  {
   "cell_type": "code",
   "execution_count": 11,
   "id": "4a1ce5c8",
   "metadata": {},
   "outputs": [
    {
     "data": {
      "text/plain": [
       "True"
      ]
     },
     "execution_count": 11,
     "metadata": {},
     "output_type": "execute_result"
    }
   ],
   "source": [
    "(True and False) or True # True\n",
    "not(True and False or not(True)) # True"
   ]
  },
  {
   "cell_type": "markdown",
   "id": "bffed54b",
   "metadata": {},
   "source": [
    "# The  in  Operator\n",
    "Another useful logical operator in Python is the   in  operator. This returns   True  when a value is found in a sequence (a string or a list);  False , if not.\n",
    "\n",
    "For example:"
   ]
  },
  {
   "cell_type": "code",
   "execution_count": 12,
   "id": "cccc9814",
   "metadata": {},
   "outputs": [
    {
     "data": {
      "text/plain": [
       "False"
      ]
     },
     "execution_count": 12,
     "metadata": {},
     "output_type": "execute_result"
    }
   ],
   "source": [
    "myList = [4, 2, 3, 2, 10]\n",
    "myStringList = [\"a\", \"b\", \"c\", \"d\"]\n",
    "myString = \"The weather is really good today!\"\n",
    "\n",
    "4 in myList # True\n",
    "0 in myList # False\n",
    "0 in myStringList # False\n",
    "\"c\" in myStringList # True\n",
    "\"e\" in myStringList # False\n",
    "\"weather\" in myString # True\n",
    "\"really\" in myString # True\n",
    "\"rain?\" in myString # False"
   ]
  },
  {
   "cell_type": "markdown",
   "id": "9abeb134",
   "metadata": {},
   "source": [
    "Manage a Chain of Conditions\n",
    "To grant a loan, a bank relies (among other things) on the status of its users' accounts. For example, a naive decision rule might be:\n",
    "\n",
    "If the customer has more than $10,000 in their account, they are automatically approved for their loan.\n",
    "\n",
    "If they have between $100 and $10,000, we need to manually approve their application.\n",
    "\n",
    "Otherwise, the request is denied.\n",
    "\n",
    "We could use two nested if statements, but Python can link several conditions thanks to the keyword   elif  (contraction of else and if). Here is the general form"
   ]
  },
  {
   "cell_type": "code",
   "execution_count": 13,
   "id": "54059215",
   "metadata": {},
   "outputs": [
    {
     "name": "stdout",
     "output_type": "stream",
     "text": [
      "What is your account balance?10000\n",
      "Loan granted!\n"
     ]
    }
   ],
   "source": [
    "account = input(\"What is your account balance?\")\n",
    "account = int(account) # transform the answer into an integer\n",
    "\n",
    "if account >= 10000:\n",
    "    print(\"Loan granted!\")\n",
    "elif account >= 100 and account < 10000:\n",
    "    print(\"Loan in process of validation: under study\")\n",
    "else:\n",
    "    print(\"Loan refused\")"
   ]
  },
  {
   "cell_type": "code",
   "execution_count": null,
   "id": "aa610107",
   "metadata": {},
   "outputs": [],
   "source": []
  }
 ],
 "metadata": {
  "kernelspec": {
   "display_name": "Python 3 (ipykernel)",
   "language": "python",
   "name": "python3"
  },
  "language_info": {
   "codemirror_mode": {
    "name": "ipython",
    "version": 3
   },
   "file_extension": ".py",
   "mimetype": "text/x-python",
   "name": "python",
   "nbconvert_exporter": "python",
   "pygments_lexer": "ipython3",
   "version": "3.9.13"
  }
 },
 "nbformat": 4,
 "nbformat_minor": 5
}
