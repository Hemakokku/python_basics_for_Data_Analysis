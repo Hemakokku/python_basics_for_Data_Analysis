{
 "cells": [
  {
   "cell_type": "markdown",
   "id": "484e38ee",
   "metadata": {},
   "source": [
    "# Generate Random Numbers\n",
    "First, import your random module. The name of the package in Python is... random:\n",
    "\n"
   ]
  },
  {
   "cell_type": "code",
   "execution_count": 1,
   "id": "9f03654c",
   "metadata": {},
   "outputs": [],
   "source": [
    "import random"
   ]
  },
  {
   "cell_type": "markdown",
   "id": "3b39b0ae",
   "metadata": {},
   "source": [
    "The basic function for generating random numbers is called... random() as well (how original!). It will generate a random float between 0 and 1 (not including 0 or 1). Let's try a simple example by displaying three random numbers:"
   ]
  },
  {
   "cell_type": "code",
   "execution_count": 3,
   "id": "749c0840",
   "metadata": {
    "scrolled": true
   },
   "outputs": [
    {
     "name": "stdout",
     "output_type": "stream",
     "text": [
      "0.5065098267612006\n",
      "0.33753954980900813\n",
      "0.2972743486547238\n"
     ]
    }
   ],
   "source": [
    "for i in range(3):\n",
    " print(random.random())"
   ]
  },
  {
   "cell_type": "markdown",
   "id": "5a6a8214",
   "metadata": {},
   "source": [
    "Of course, if you run the same code at home, you will get different results (that’s the nature of randomness)!\n",
    "\n",
    "But only having a number between 0 and 1 is a bit limited... isn't it?\n",
    "\n",
    "Absolutely! But the people who created the random package fortunately thought of everything. There are other functions that let you generate a random number in a given range:\n",
    "\n",
    "uniform(a, b) : will generate a random float between   a  and  b .\n",
    "\n",
    "randint(a, b) : as its name suggests, this one is similar to   uniform  except that the random number generated is an integer this time!\n",
    "\n"
   ]
  },
  {
   "cell_type": "code",
   "execution_count": 4,
   "id": "3591ff0d",
   "metadata": {},
   "outputs": [
    {
     "name": "stdout",
     "output_type": "stream",
     "text": [
      "example of uniform function\n",
      "7.434291459920642\n",
      "5.61713671057862\n",
      "8.485934684810754\n",
      "..........................\n",
      "example of uniform function\n",
      "8.380229632724436\n",
      "6.6566151878091\n",
      "6.288462324487609\n"
     ]
    }
   ],
   "source": [
    "print(\"example of uniform function\")\n",
    "for i in range(3):\n",
    "    print(random.uniform(5,10))\n",
    "print(\"..........................\")\n",
    "print(\"example of uniform function\")\n",
    "for i in range(3):\n",
    "    print(random.uniform(5,10))"
   ]
  },
  {
   "attachments": {
    "image.png": {
     "image/png": "[encoded data removed]"
    }
   },
   "cell_type": "markdown",
   "id": "e759baaf",
   "metadata": {},
   "source": [
    "You can use one or the other according to your needs!\n",
    "\n",
    "Generate a Random Number According to a Given Distribution\n",
    "The random module can also generate a random number according to a distribution. One of the best known is the Gaussian (or normal) distribution. If you don't know it already, let me introduce you to it!\n",
    "\n",
    "The normal law is one of the most suitable probability laws to model natural phenomena resulting from several random events. These are all phenomena where the majority of individuals are around an average, with decreasing proportions below and above this average. Here is a very telling example, with the distribution of the population by IQ:\n",
    "![image.png](attachment:image.png)\n",
    "\n",
    "\n",
    "The random module lets you generate random numbers according to this law: i.e., you are much more likely to have values close to the average (with the example above, between 85 and 115) than extreme values (close to 70 or 130). The corresponding function is called   gauss(mean, standard_deviation) .\n",
    "\n",
    "Here is an example with a distribution centered at 0 and with a standard deviation of 1 (which is a “conventional” normal distribution):"
   ]
  },
  {
   "cell_type": "code",
   "execution_count": 5,
   "id": "7fead35c",
   "metadata": {},
   "outputs": [
    {
     "name": "stdout",
     "output_type": "stream",
     "text": [
      "0.5194807794286009\n",
      "0.40516467240421955\n",
      "-0.23959341701679604\n",
      "1.0135084052875554\n",
      "1.6888411721898173\n",
      "0.2510593937346598\n",
      "-0.38048864401680554\n",
      "-0.8654433400656665\n",
      "0.8462172215253322\n",
      "0.1258367857650771\n"
     ]
    }
   ],
   "source": [
    "for i in range(10):\n",
    "    print(random.gauss(0,1))"
   ]
  },
  {
   "cell_type": "markdown",
   "id": "dc91bcfd",
   "metadata": {},
   "source": [
    "# Choose Randomly From a List: Subsampling\n",
    "As you already know, to select an item in a list, you have to select it via its index. If you want to select an item randomly from a list, a somewhat naive solution might be to draw the index randomly, and then use the random index to select the item. The random module goes a step further by offering a function that lets you make the selection directly from the list: the    choice  function."
   ]
  },
  {
   "cell_type": "code",
   "execution_count": 7,
   "id": "ef91258d",
   "metadata": {},
   "outputs": [
    {
     "name": "stdout",
     "output_type": "stream",
     "text": [
      "four\n",
      "two\n",
      "one\n"
     ]
    }
   ],
   "source": [
    "list=['one','two','three','four','five']\n",
    "for i in range(3):\n",
    "    print(random.choice(list))"
   ]
  },
  {
   "cell_type": "markdown",
   "id": "1c5b6f6e",
   "metadata": {},
   "source": [
    "The evolution of this is the  choices  function, now making it possible to select a sample from the initial list, with replacement:"
   ]
  },
  {
   "cell_type": "code",
   "execution_count": 8,
   "id": "727c18c5",
   "metadata": {},
   "outputs": [
    {
     "name": "stdout",
     "output_type": "stream",
     "text": [
      "['four', 'two']\n",
      "['two', 'one', 'one']\n"
     ]
    }
   ],
   "source": [
    "print(random.choices(list,k=2))\n",
    "print(random.choices(list,k=3))"
   ]
  },
  {
   "cell_type": "markdown",
   "id": "b9cf63d2",
   "metadata": {},
   "source": [
    "Note how, in the second line, we get “two” returned twice, because the first “two” was effectively put back into the list once it was initially drawn.\n",
    "\n",
    "This is called subsampling. The corresponding function, for a sample without replacement, is sample :"
   ]
  },
  {
   "cell_type": "code",
   "execution_count": 10,
   "id": "f6905be1",
   "metadata": {},
   "outputs": [
    {
     "name": "stdout",
     "output_type": "stream",
     "text": [
      "['three', 'one']\n",
      "['one', 'five', 'four']\n"
     ]
    }
   ],
   "source": [
    "print(random.sample(list,k=2))\n",
    "print(random.sample(list,k=3))"
   ]
  },
  {
   "cell_type": "markdown",
   "id": "82123fdf",
   "metadata": {},
   "source": [
    "In data analysis, this concept of subsampling is essential, as it can select a sample from an initial population. In statistics, a sample is a set of individuals representative of a population. The use of a subsample is generally a solution to a practical constraint (lack of time, space, financial cost, etc.) that does not allow an exhaustive study of the entire population."
   ]
  },
  {
   "cell_type": "code",
   "execution_count": null,
   "id": "1eb656e6",
   "metadata": {},
   "outputs": [],
   "source": []
  }
 ],
 "metadata": {
  "kernelspec": {
   "display_name": "Python 3 (ipykernel)",
   "language": "python",
   "name": "python3"
  },
  "language_info": {
   "codemirror_mode": {
    "name": "ipython",
    "version": 3
   },
   "file_extension": ".py",
   "mimetype": "text/x-python",
   "name": "python",
   "nbconvert_exporter": "python",
   "pygments_lexer": "ipython3",
   "version": "3.9.13"
  }
 },
 "nbformat": 4,
 "nbformat_minor": 5
}
