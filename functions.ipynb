{
 "cells": [
  {
   "cell_type": "markdown",
   "id": "16433583",
   "metadata": {},
   "source": [
    "# Discover Functions\n",
    "During your data analysis, you will regularly have to use groups of statements several times for a very specific purpose. One of the fundamental principles for any computer programmer is to get maximum results for minimum effort (there is even a saying that a good programmer is a lazy programmer!). It is thanks to this somewhat \"lazy\" but very effective principle that the idea of functions came about. Functions can group several statements in a block which will be called using a name.\n",
    "\n",
    "Functions are not specific to Python; they are present in all computer languages. They can:\n",
    "\n",
    "reuse a portion of code already written just by stating the function name—so you don't have to rewrite the whole portion of code each time.\n",
    "\n",
    "simplify code and make it more readable!\n",
    "\n",
    "There are many pre-existing functions in Python! In addition to those already seen, there are, for example:\n",
    "\n",
    "len() :  a function that returns the length of an item. Do you remember strings? Using this function on a string tells you how many characters the string contains.\n",
    "\n",
    "type() : lets you print the type of a variable.\n",
    "\n",
    "pow(a, b) : lets you calculate a to the power of b. It is equivalent to writing a**b.\n",
    "\n",
    "abs() :  returns the absolute value of a number.\n",
    "\n",
    "Here are some examples to illustrate the use of these functions:\n",
    "\n"
   ]
  },
  {
   "cell_type": "code",
   "execution_count": 1,
   "id": "30eed111",
   "metadata": {},
   "outputs": [
    {
     "name": "stdout",
     "output_type": "stream",
     "text": [
      "5\n",
      "<class 'str'>\n",
      "16\n",
      "100\n"
     ]
    }
   ],
   "source": [
    "a=\"apple\"\n",
    "print(len(a))\n",
    "print(type(a))\n",
    "print(pow(4,2))\n",
    "print(abs(-100))"
   ]
  },
  {
   "cell_type": "markdown",
   "id": "ae14b378",
   "metadata": {},
   "source": [
    "try it  with own example"
   ]
  },
  {
   "cell_type": "code",
   "execution_count": 2,
   "id": "c9197e14",
   "metadata": {},
   "outputs": [
    {
     "name": "stdout",
     "output_type": "stream",
     "text": [
      "13\n"
     ]
    }
   ],
   "source": [
    "def printPerimeter():\n",
    "    dimension1 = 6\n",
    "    dimension2 = 4\n",
    "    dimension3 = 3\n",
    "    perimeter = dimension1 + dimension2 + dimension3\n",
    "    print(perimeter)\n",
    "\n",
    "printPerimeter() # => 13"
   ]
  },
  {
   "cell_type": "markdown",
   "id": "f289828e",
   "metadata": {},
   "source": [
    "# Define the Parameters\n",
    "To overcome this limitation, you must make your function accept external numbers. You can do this by defining parameters.\n",
    "\n",
    "In Python, parameters, just like the name of the function, are defined when the function is written. This is how it would look with the above example:"
   ]
  },
  {
   "cell_type": "code",
   "execution_count": 3,
   "id": "7cf92231",
   "metadata": {},
   "outputs": [],
   "source": [
    "def printPerimeter(dimension1, dimension2, dimension3):\n",
    "    perimeter = dimension1 + dimension2 + dimension3\n",
    "    print(perimeter)"
   ]
  },
  {
   "cell_type": "markdown",
   "id": "3694a022",
   "metadata": {},
   "source": [
    "Parameters are variables defined during the declaration of the function, specified inside brackets. Now you can use your function with any existing triangle:"
   ]
  },
  {
   "cell_type": "code",
   "execution_count": 4,
   "id": "aa9c0dc4",
   "metadata": {},
   "outputs": [
    {
     "name": "stdout",
     "output_type": "stream",
     "text": [
      "25\n",
      "7.5\n"
     ]
    }
   ],
   "source": [
    "printPerimeter(10, 11, 4) # => 25\n",
    "printPerimeter(2, 2, 3.5) # => 7.5"
   ]
  },
  {
   "cell_type": "markdown",
   "id": "2fc08a44",
   "metadata": {},
   "source": [
    "Each value is assigned to a parameter, in the order in which they were defined. For example, in the first test:\n",
    "\n",
    "the variable   dimension1  will have a value of 10.\n",
    "\n",
    "the variable   dimension2  will have a value of 11.\n",
    "\n",
    "the variable   dimension3  will have a value of 4.\n",
    "\n",
    "The function will then perform all the operations specified in the body of the function (i.e., the indented lines) with these values.\n",
    "\n",
    "Parameters are variables declared in a function. The values that are passed as parameters are called arguments.\n",
    "\n",
    "So, that's great, you've added some features to your function!"
   ]
  },
  {
   "cell_type": "markdown",
   "id": "17c3f8ca",
   "metadata": {},
   "source": [
    "Often, when you use a function in a code, you expect an answer that you can reuse to move forward in the code. This answer can be provided via the value returned by a function.\n",
    "\n",
    "Define a Return Value\n",
    "To define a return value, you must explicitly use the return keyword at the end of your function.\n",
    "\n",
    "You could change your   printPerimeter  function into   calculatePerimeter  which will return the perimeter of a triangle, according to the length of its three sides, so that it can be reused afterwards:"
   ]
  },
  {
   "cell_type": "code",
   "execution_count": 5,
   "id": "1b5224ab",
   "metadata": {},
   "outputs": [],
   "source": [
    "def calculatePerimeter(dimension1, dimension2, dimension3):\n",
    "    perimeter = dimension1 + dimension2 + dimension3\n",
    "    return perimeter"
   ]
  },
  {
   "cell_type": "markdown",
   "id": "ab736118",
   "metadata": {},
   "source": [
    "Once you have defined your function, you can use it as many times as necessary:"
   ]
  },
  {
   "cell_type": "code",
   "execution_count": 6,
   "id": "88b2f731",
   "metadata": {},
   "outputs": [
    {
     "name": "stdout",
     "output_type": "stream",
     "text": [
      "The perimeter of my first triangle is 13 and that of my second is 24\n"
     ]
    }
   ],
   "source": [
    "perimeter1 = calculatePerimeter(6, 4, 3)\n",
    "perimeter2 = calculatePerimeter(10, 3, 11)\n",
    "\n",
    "print(\"The perimeter of my first triangle is\", perimeter1, \"and that of my second is\", perimeter2)"
   ]
  },
  {
   "cell_type": "code",
   "execution_count": null,
   "id": "8a55bfd5",
   "metadata": {},
   "outputs": [],
   "source": []
  }
 ],
 "metadata": {
  "kernelspec": {
   "display_name": "Python 3 (ipykernel)",
   "language": "python",
   "name": "python3"
  },
  "language_info": {
   "codemirror_mode": {
    "name": "ipython",
    "version": 3
   },
   "file_extension": ".py",
   "mimetype": "text/x-python",
   "name": "python",
   "nbconvert_exporter": "python",
   "pygments_lexer": "ipython3",
   "version": "3.9.13"
  }
 },
 "nbformat": 4,
 "nbformat_minor": 5
}
